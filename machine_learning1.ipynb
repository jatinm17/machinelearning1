{
 "cells": [
  {
   "cell_type": "code",
   "execution_count": 4,
   "id": "c7c37d1c-38c1-4a46-a9f7-6afab0de3390",
   "metadata": {},
   "outputs": [
    {
     "name": "stdout",
     "output_type": "stream",
     "text": [
      "The term Artificial Intelligence refers to the simulation of human intelligence processes by machines, especially computer systems. It also includes Expert systems, voice recognition, machine vision, and natural language processing (NLP).\n",
      "Machine Learning technology has widely changed the lifestyle of a human beings as we are highly dependent on this technology. It is the subset of Artificial Intelligence, and we all are using this either knowingly or unknowingly. For example, we use Google Assistant that employs ML concepts, we take help from online customer support, which is also an example of machine learning, and many more.\n",
      "Deep learning networks have hundreds of hidden layers that they can use to analyze a problem from several different angles. For example, if you were given an image of an unknown animal that you had to classify, you would compare it with animals you already know.\n"
     ]
    }
   ],
   "source": [
    "#question 1\n",
    "print(\"The term Artificial Intelligence refers to the simulation of human intelligence processes by machines, especially computer systems. It also includes Expert systems, voice recognition, machine vision, and natural language processing (NLP).\")\n",
    "print(\"Machine Learning technology has widely changed the lifestyle of a human beings as we are highly dependent on this technology. It is the subset of Artificial Intelligence, and we all are using this either knowingly or unknowingly. For example, we use Google Assistant that employs ML concepts, we take help from online customer support, which is also an example of machine learning, and many more.\")\n",
    "print(\"Deep learning networks have hundreds of hidden layers that they can use to analyze a problem from several different angles. For example, if you were given an image of an unknown animal that you had to classify, you would compare it with animals you already know.\")"
   ]
  },
  {
   "cell_type": "code",
   "execution_count": 8,
   "id": "acb32e8a-b18d-43c6-97e9-c39ea517e3ee",
   "metadata": {},
   "outputs": [
    {
     "name": "stdout",
     "output_type": "stream",
     "text": [
      "Supervised learning is the types of machine learning in which machines are trained using well labelled training data, and on basis of that data, machines predict the output. The labelled data means some input data is already tagged with the correct output\n"
     ]
    },
    {
     "data": {
      "text/plain": [
       "'example of supervised learning are credit scoring ,email filtering , voice recognition'"
      ]
     },
     "execution_count": 8,
     "metadata": {},
     "output_type": "execute_result"
    }
   ],
   "source": [
    "# QUES 2\n",
    "print(\"Supervised learning is the types of machine learning in which machines are trained using well labelled training data, and on basis of that data, machines predict the output. The labelled data means some input data is already tagged with the correct output\")\n",
    "'''example of supervised learning are credit scoring ,email filtering , voice recognition'''"
   ]
  },
  {
   "cell_type": "code",
   "execution_count": 9,
   "id": "66df9fde-4faf-4e2d-a3cf-dab2ff5fa807",
   "metadata": {},
   "outputs": [
    {
     "name": "stdout",
     "output_type": "stream",
     "text": [
      "The goal of unsupervised learning is to find the underlying structure of dataset, group that data according to similarities, and represent that dataset in a compressed format. Example: Suppose the unsupervised learning algorithm is given an input dataset containing images of different types of cats and dogs.\n"
     ]
    }
   ],
   "source": [
    "# QUESTION 3\n",
    "print(\"The goal of unsupervised learning is to find the underlying structure of dataset, group that data according to similarities, and represent that dataset in a compressed format. Example: Suppose the unsupervised learning algorithm is given an input dataset containing images of different types of cats and dogs.\")"
   ]
  },
  {
   "cell_type": "code",
   "execution_count": 10,
   "id": "8115d69e-c8b4-475d-8d8a-8be4b9dd1ae0",
   "metadata": {},
   "outputs": [
    {
     "name": "stdout",
     "output_type": "stream",
     "text": [
      "AI is a computer algorithm which exhibits intelligence through decision making. ML is an AI algorithm which allows system to learn from data. DL is a ML algorithm that uses deep(more than one layer) neural networks to analyze data and provide output accordingly.\n"
     ]
    }
   ],
   "source": [
    "# QUESTION 4\n",
    "print(\"AI is a computer algorithm which exhibits intelligence through decision making. ML is an AI algorithm which allows system to learn from data. DL is a ML algorithm that uses deep(more than one layer) neural networks to analyze data and provide output accordingly.\")"
   ]
  },
  {
   "cell_type": "code",
   "execution_count": 11,
   "id": "cdc505ac-1aff-4af2-9042-126822621323",
   "metadata": {},
   "outputs": [
    {
     "name": "stdout",
     "output_type": "stream",
     "text": [
      "Supervised learning is a problem with labeled data, expecting to develop predictive capability. Unsupervised learning is discovering process, diving into unlabeled data to capture hidden information. Semi-supervised learning is a blend of supervised and unsupervised learning.\n"
     ]
    }
   ],
   "source": [
    "# QUES 5\n",
    "print(\"Supervised learning is a problem with labeled data, expecting to develop predictive capability. Unsupervised learning is discovering process, diving into unlabeled data to capture hidden information. Semi-supervised learning is a blend of supervised and unsupervised learning.\")"
   ]
  },
  {
   "cell_type": "code",
   "execution_count": 12,
   "id": "09db9b8f-ad8f-44e2-a4e4-ee4f443a0585",
   "metadata": {},
   "outputs": [
    {
     "name": "stdout",
     "output_type": "stream",
     "text": [
      "Training data is the set of the data on which the actual training takes place. Validation split helps to improve the model performance by fine-tuning the model after each epoch. The test set informs us about the final accuracy of the model after completing the training phase.\n"
     ]
    }
   ],
   "source": [
    "#QUESTION 6\n",
    "print(\"Training data is the set of the data on which the actual training takes place. Validation split helps to improve the model performance by fine-tuning the model after each epoch. The test set informs us about the final accuracy of the model after completing the training phase.\")"
   ]
  },
  {
   "cell_type": "code",
   "execution_count": 13,
   "id": "b9a84424-e7da-4c3a-96c1-bcb52c8ca411",
   "metadata": {},
   "outputs": [
    {
     "name": "stdout",
     "output_type": "stream",
     "text": [
      "Anomaly detection techniques of unsupervised nature assume that normal data points occur considerably more frequently than anomalous data points. This assumption is used to classify data points that occur less frequently as anomalies. Unsupervised techniques assign each data point a score instead of a label.\n"
     ]
    }
   ],
   "source": [
    "# Ques 7\n",
    "print(\"Anomaly detection techniques of unsupervised nature assume that normal data points occur considerably more frequently than anomalous data points. This assumption is used to classify data points that occur less frequently as anomalies. Unsupervised techniques assign each data point a score instead of a label.\")"
   ]
  },
  {
   "cell_type": "code",
   "execution_count": null,
   "id": "1dff6234-3f62-4ceb-ac6e-56c2dbde3618",
   "metadata": {},
   "outputs": [],
   "source": [
    "# Ques 8\n"
   ]
  }
 ],
 "metadata": {
  "kernelspec": {
   "display_name": "Python 3 (ipykernel)",
   "language": "python",
   "name": "python3"
  },
  "language_info": {
   "codemirror_mode": {
    "name": "ipython",
    "version": 3
   },
   "file_extension": ".py",
   "mimetype": "text/x-python",
   "name": "python",
   "nbconvert_exporter": "python",
   "pygments_lexer": "ipython3",
   "version": "3.10.8"
  }
 },
 "nbformat": 4,
 "nbformat_minor": 5
}
